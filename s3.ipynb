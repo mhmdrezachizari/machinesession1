{
 "cells": [
  {
   "cell_type": "code",
   "execution_count": 38,
   "id": "92ca9652",
   "metadata": {},
   "outputs": [],
   "source": [
    "import pandas as pd\n",
    "import numpy as np"
   ]
  },
  {
   "cell_type": "code",
   "execution_count": 39,
   "id": "e9ed9207",
   "metadata": {},
   "outputs": [],
   "source": [
    "data = pd.read_csv(\"train_quera.csv\")"
   ]
  },
  {
   "cell_type": "code",
   "execution_count": null,
   "id": "4dc3b782",
   "metadata": {},
   "outputs": [],
   "source": []
  }
 ],
 "metadata": {
  "language_info": {
   "name": "python"
  }
 },
 "nbformat": 4,
 "nbformat_minor": 5
}
